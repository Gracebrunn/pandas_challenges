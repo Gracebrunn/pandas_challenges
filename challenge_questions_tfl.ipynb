{
 "cells": [
  {
   "cell_type": "markdown",
   "id": "fad1607b",
   "metadata": {},
   "source": [
    "# Challenge Questions - TfL Dataset"
   ]
  },
  {
   "cell_type": "markdown",
   "id": "a216156e",
   "metadata": {},
   "source": [
    "# "
   ]
  },
  {
   "cell_type": "markdown",
   "id": "620b8fa0",
   "metadata": {},
   "source": [
    "## Import pandas, numpy and datetime"
   ]
  },
  {
   "cell_type": "code",
   "execution_count": 1,
   "id": "07f42443",
   "metadata": {},
   "outputs": [],
   "source": [
    "import pandas as pd\n",
    "import numpy as np"
   ]
  },
  {
   "cell_type": "code",
   "execution_count": 2,
   "id": "651723ec",
   "metadata": {},
   "outputs": [],
   "source": [
    "import datetime as dt"
   ]
  },
  {
   "cell_type": "markdown",
   "id": "6d339efc",
   "metadata": {},
   "source": [
    "## Load the files:\n",
    "• \"tfl-daily-cycle-hires.csv\" should be assigned to the variable **tfl**"
   ]
  },
  {
   "cell_type": "code",
   "execution_count": 3,
   "id": "d0284798",
   "metadata": {},
   "outputs": [],
   "source": [
    "tfl=pd.read_csv('tfl-daily-cycle-hires.csv')"
   ]
  },
  {
   "cell_type": "code",
   "execution_count": 28,
   "id": "45dbc76e",
   "metadata": {},
   "outputs": [
    {
     "data": {
      "text/html": [
       "<div>\n",
       "<style scoped>\n",
       "    .dataframe tbody tr th:only-of-type {\n",
       "        vertical-align: middle;\n",
       "    }\n",
       "\n",
       "    .dataframe tbody tr th {\n",
       "        vertical-align: top;\n",
       "    }\n",
       "\n",
       "    .dataframe thead th {\n",
       "        text-align: right;\n",
       "    }\n",
       "</style>\n",
       "<table border=\"1\" class=\"dataframe\">\n",
       "  <thead>\n",
       "    <tr style=\"text-align: right;\">\n",
       "      <th></th>\n",
       "      <th>Day</th>\n",
       "      <th>Number of Bicycle Hires</th>\n",
       "    </tr>\n",
       "  </thead>\n",
       "  <tbody>\n",
       "    <tr>\n",
       "      <th>0</th>\n",
       "      <td>30/07/2010</td>\n",
       "      <td>6897.0</td>\n",
       "    </tr>\n",
       "    <tr>\n",
       "      <th>1</th>\n",
       "      <td>31/07/2010</td>\n",
       "      <td>5564.0</td>\n",
       "    </tr>\n",
       "    <tr>\n",
       "      <th>2</th>\n",
       "      <td>01/08/2010</td>\n",
       "      <td>4303.0</td>\n",
       "    </tr>\n",
       "    <tr>\n",
       "      <th>3</th>\n",
       "      <td>02/08/2010</td>\n",
       "      <td>6642.0</td>\n",
       "    </tr>\n",
       "    <tr>\n",
       "      <th>4</th>\n",
       "      <td>03/08/2010</td>\n",
       "      <td>7966.0</td>\n",
       "    </tr>\n",
       "    <tr>\n",
       "      <th>...</th>\n",
       "      <td>...</td>\n",
       "      <td>...</td>\n",
       "    </tr>\n",
       "    <tr>\n",
       "      <th>4076</th>\n",
       "      <td>26/09/2021</td>\n",
       "      <td>45120.0</td>\n",
       "    </tr>\n",
       "    <tr>\n",
       "      <th>4077</th>\n",
       "      <td>27/09/2021</td>\n",
       "      <td>32167.0</td>\n",
       "    </tr>\n",
       "    <tr>\n",
       "      <th>4078</th>\n",
       "      <td>28/09/2021</td>\n",
       "      <td>32539.0</td>\n",
       "    </tr>\n",
       "    <tr>\n",
       "      <th>4079</th>\n",
       "      <td>29/09/2021</td>\n",
       "      <td>39889.0</td>\n",
       "    </tr>\n",
       "    <tr>\n",
       "      <th>4080</th>\n",
       "      <td>30/09/2021</td>\n",
       "      <td>34070.0</td>\n",
       "    </tr>\n",
       "  </tbody>\n",
       "</table>\n",
       "<p>4081 rows × 2 columns</p>\n",
       "</div>"
      ],
      "text/plain": [
       "             Day  Number of Bicycle Hires\n",
       "0     30/07/2010                   6897.0\n",
       "1     31/07/2010                   5564.0\n",
       "2     01/08/2010                   4303.0\n",
       "3     02/08/2010                   6642.0\n",
       "4     03/08/2010                   7966.0\n",
       "...          ...                      ...\n",
       "4076  26/09/2021                  45120.0\n",
       "4077  27/09/2021                  32167.0\n",
       "4078  28/09/2021                  32539.0\n",
       "4079  29/09/2021                  39889.0\n",
       "4080  30/09/2021                  34070.0\n",
       "\n",
       "[4081 rows x 2 columns]"
      ]
     },
     "execution_count": 28,
     "metadata": {},
     "output_type": "execute_result"
    }
   ],
   "source": [
    "tfl"
   ]
  },
  {
   "cell_type": "markdown",
   "id": "08345011",
   "metadata": {},
   "source": [
    "## Check the head of the DataFrame"
   ]
  },
  {
   "cell_type": "code",
   "execution_count": 6,
   "id": "d1b976ce",
   "metadata": {},
   "outputs": [
    {
     "data": {
      "text/html": [
       "<div>\n",
       "<style scoped>\n",
       "    .dataframe tbody tr th:only-of-type {\n",
       "        vertical-align: middle;\n",
       "    }\n",
       "\n",
       "    .dataframe tbody tr th {\n",
       "        vertical-align: top;\n",
       "    }\n",
       "\n",
       "    .dataframe thead th {\n",
       "        text-align: right;\n",
       "    }\n",
       "</style>\n",
       "<table border=\"1\" class=\"dataframe\">\n",
       "  <thead>\n",
       "    <tr style=\"text-align: right;\">\n",
       "      <th></th>\n",
       "      <th>Day</th>\n",
       "      <th>Number of Bicycle Hires</th>\n",
       "      <th>Unnamed: 2</th>\n",
       "    </tr>\n",
       "  </thead>\n",
       "  <tbody>\n",
       "    <tr>\n",
       "      <th>0</th>\n",
       "      <td>30/07/2010</td>\n",
       "      <td>6897.0</td>\n",
       "      <td>NaN</td>\n",
       "    </tr>\n",
       "    <tr>\n",
       "      <th>1</th>\n",
       "      <td>31/07/2010</td>\n",
       "      <td>5564.0</td>\n",
       "      <td>NaN</td>\n",
       "    </tr>\n",
       "    <tr>\n",
       "      <th>2</th>\n",
       "      <td>01/08/2010</td>\n",
       "      <td>4303.0</td>\n",
       "      <td>NaN</td>\n",
       "    </tr>\n",
       "    <tr>\n",
       "      <th>3</th>\n",
       "      <td>02/08/2010</td>\n",
       "      <td>6642.0</td>\n",
       "      <td>NaN</td>\n",
       "    </tr>\n",
       "    <tr>\n",
       "      <th>4</th>\n",
       "      <td>03/08/2010</td>\n",
       "      <td>7966.0</td>\n",
       "      <td>NaN</td>\n",
       "    </tr>\n",
       "  </tbody>\n",
       "</table>\n",
       "</div>"
      ],
      "text/plain": [
       "          Day  Number of Bicycle Hires  Unnamed: 2\n",
       "0  30/07/2010                   6897.0         NaN\n",
       "1  31/07/2010                   5564.0         NaN\n",
       "2  01/08/2010                   4303.0         NaN\n",
       "3  02/08/2010                   6642.0         NaN\n",
       "4  03/08/2010                   7966.0         NaN"
      ]
     },
     "execution_count": 6,
     "metadata": {},
     "output_type": "execute_result"
    }
   ],
   "source": [
    "tfl.head()"
   ]
  },
  {
   "cell_type": "code",
   "execution_count": null,
   "id": "e4ae65b7",
   "metadata": {},
   "outputs": [],
   "source": []
  },
  {
   "cell_type": "markdown",
   "id": "14067905",
   "metadata": {},
   "source": [
    "## Check the data types of the DataFrame columns"
   ]
  },
  {
   "cell_type": "code",
   "execution_count": 13,
   "id": "599e0f7c",
   "metadata": {},
   "outputs": [
    {
     "data": {
      "text/plain": [
       "Day                         object\n",
       "Number of Bicycle Hires    float64\n",
       "Unnamed: 2                 float64\n",
       "dtype: object"
      ]
     },
     "execution_count": 13,
     "metadata": {},
     "output_type": "execute_result"
    }
   ],
   "source": [
    "tfl[['Day', 'Number of Bicycle Hires', 'Unnamed: 2']].dtypes"
   ]
  },
  {
   "cell_type": "code",
   "execution_count": 14,
   "id": "799ac388",
   "metadata": {},
   "outputs": [
    {
     "data": {
      "text/plain": [
       "Day                         object\n",
       "Number of Bicycle Hires    float64\n",
       "Unnamed: 2                 float64\n",
       "dtype: object"
      ]
     },
     "execution_count": 14,
     "metadata": {},
     "output_type": "execute_result"
    }
   ],
   "source": [
    "tfl.dtypes"
   ]
  },
  {
   "cell_type": "markdown",
   "id": "37a9a275",
   "metadata": {},
   "source": [
    "## Change the data types and remove unnecessary columns \n",
    "\n",
    "• 'Day' should be a datetime64 data type\n",
    "\n",
    "• 'Number of Bicycle Hires' should be float64\n",
    "\n",
    "• Any other columns should be deleted"
   ]
  },
  {
   "cell_type": "code",
   "execution_count": 27,
   "id": "c8e72b07",
   "metadata": {},
   "outputs": [
    {
     "data": {
      "text/html": [
       "<div>\n",
       "<style scoped>\n",
       "    .dataframe tbody tr th:only-of-type {\n",
       "        vertical-align: middle;\n",
       "    }\n",
       "\n",
       "    .dataframe tbody tr th {\n",
       "        vertical-align: top;\n",
       "    }\n",
       "\n",
       "    .dataframe thead th {\n",
       "        text-align: right;\n",
       "    }\n",
       "</style>\n",
       "<table border=\"1\" class=\"dataframe\">\n",
       "  <thead>\n",
       "    <tr style=\"text-align: right;\">\n",
       "      <th></th>\n",
       "      <th>Day</th>\n",
       "      <th>Number of Bicycle Hires</th>\n",
       "    </tr>\n",
       "  </thead>\n",
       "  <tbody>\n",
       "    <tr>\n",
       "      <th>0</th>\n",
       "      <td>30/07/2010</td>\n",
       "      <td>6897.0</td>\n",
       "    </tr>\n",
       "    <tr>\n",
       "      <th>1</th>\n",
       "      <td>31/07/2010</td>\n",
       "      <td>5564.0</td>\n",
       "    </tr>\n",
       "    <tr>\n",
       "      <th>2</th>\n",
       "      <td>01/08/2010</td>\n",
       "      <td>4303.0</td>\n",
       "    </tr>\n",
       "    <tr>\n",
       "      <th>3</th>\n",
       "      <td>02/08/2010</td>\n",
       "      <td>6642.0</td>\n",
       "    </tr>\n",
       "    <tr>\n",
       "      <th>4</th>\n",
       "      <td>03/08/2010</td>\n",
       "      <td>7966.0</td>\n",
       "    </tr>\n",
       "    <tr>\n",
       "      <th>...</th>\n",
       "      <td>...</td>\n",
       "      <td>...</td>\n",
       "    </tr>\n",
       "    <tr>\n",
       "      <th>4076</th>\n",
       "      <td>26/09/2021</td>\n",
       "      <td>45120.0</td>\n",
       "    </tr>\n",
       "    <tr>\n",
       "      <th>4077</th>\n",
       "      <td>27/09/2021</td>\n",
       "      <td>32167.0</td>\n",
       "    </tr>\n",
       "    <tr>\n",
       "      <th>4078</th>\n",
       "      <td>28/09/2021</td>\n",
       "      <td>32539.0</td>\n",
       "    </tr>\n",
       "    <tr>\n",
       "      <th>4079</th>\n",
       "      <td>29/09/2021</td>\n",
       "      <td>39889.0</td>\n",
       "    </tr>\n",
       "    <tr>\n",
       "      <th>4080</th>\n",
       "      <td>30/09/2021</td>\n",
       "      <td>34070.0</td>\n",
       "    </tr>\n",
       "  </tbody>\n",
       "</table>\n",
       "<p>4081 rows × 2 columns</p>\n",
       "</div>"
      ],
      "text/plain": [
       "             Day  Number of Bicycle Hires\n",
       "0     30/07/2010                   6897.0\n",
       "1     31/07/2010                   5564.0\n",
       "2     01/08/2010                   4303.0\n",
       "3     02/08/2010                   6642.0\n",
       "4     03/08/2010                   7966.0\n",
       "...          ...                      ...\n",
       "4076  26/09/2021                  45120.0\n",
       "4077  27/09/2021                  32167.0\n",
       "4078  28/09/2021                  32539.0\n",
       "4079  29/09/2021                  39889.0\n",
       "4080  30/09/2021                  34070.0\n",
       "\n",
       "[4081 rows x 2 columns]"
      ]
     },
     "execution_count": 27,
     "metadata": {},
     "output_type": "execute_result"
    }
   ],
   "source": [
    "tfl.drop(columns='Unnamed: 2', axis=0, inplace=True)\n"
   ]
  },
  {
   "cell_type": "code",
   "execution_count": 38,
   "id": "99e0e637",
   "metadata": {},
   "outputs": [],
   "source": [
    "tfl['Day']=pd.to_datetime(tfl['Day'], format='%d/%m/%y')"
   ]
  },
  {
   "cell_type": "code",
   "execution_count": 40,
   "id": "dc43dfde",
   "metadata": {},
   "outputs": [
    {
     "data": {
      "text/plain": [
       "0        6897.0\n",
       "1        5564.0\n",
       "2        4303.0\n",
       "3        6642.0\n",
       "4        7966.0\n",
       "         ...   \n",
       "4076    45120.0\n",
       "4077    32167.0\n",
       "4078    32539.0\n",
       "4079    39889.0\n",
       "4080    34070.0\n",
       "Name: Number of Bicycle Hires, Length: 4081, dtype: float64"
      ]
     },
     "execution_count": 40,
     "metadata": {},
     "output_type": "execute_result"
    }
   ],
   "source": [
    "tfl['Number of Bicycle Hires'].astype(float)"
   ]
  },
  {
   "cell_type": "code",
   "execution_count": 42,
   "id": "a67f4a67",
   "metadata": {},
   "outputs": [
    {
     "data": {
      "text/plain": [
       "Day                        datetime64[ns]\n",
       "Number of Bicycle Hires           float64\n",
       "dtype: object"
      ]
     },
     "execution_count": 42,
     "metadata": {},
     "output_type": "execute_result"
    }
   ],
   "source": [
    "tfl.dtypes"
   ]
  },
  {
   "cell_type": "code",
   "execution_count": null,
   "id": "9a4aa0f5",
   "metadata": {},
   "outputs": [],
   "source": []
  },
  {
   "cell_type": "code",
   "execution_count": null,
   "id": "2e876a28",
   "metadata": {},
   "outputs": [],
   "source": []
  },
  {
   "cell_type": "markdown",
   "id": "f35d6eec",
   "metadata": {},
   "source": [
    "## What is the average number of bicycle hires per day across the entire dataset?"
   ]
  },
  {
   "cell_type": "code",
   "execution_count": 51,
   "id": "e92d7dba",
   "metadata": {},
   "outputs": [
    {
     "data": {
      "text/plain": [
       "26261.932124479295"
      ]
     },
     "execution_count": 51,
     "metadata": {},
     "output_type": "execute_result"
    }
   ],
   "source": [
    "tfl['Number of Bicycle Hires'].mean()"
   ]
  },
  {
   "cell_type": "code",
   "execution_count": 50,
   "id": "9898ddaa",
   "metadata": {},
   "outputs": [
    {
     "data": {
      "text/plain": [
       "26261.93"
      ]
     },
     "execution_count": 50,
     "metadata": {},
     "output_type": "execute_result"
    }
   ],
   "source": [
    "round(tfl['Number of Bicycle Hires'].mean(),2)"
   ]
  },
  {
   "cell_type": "markdown",
   "id": "4e946af5",
   "metadata": {},
   "source": [
    "## Create a new column called 'Year' which contains the 4 digit year"
   ]
  },
  {
   "cell_type": "code",
   "execution_count": 62,
   "id": "56fd21f1",
   "metadata": {},
   "outputs": [],
   "source": [
    "tfl['year']=tfl['Day'].dt.strftime('%y')"
   ]
  },
  {
   "cell_type": "code",
   "execution_count": 63,
   "id": "babbd6ab",
   "metadata": {},
   "outputs": [
    {
     "data": {
      "text/html": [
       "<div>\n",
       "<style scoped>\n",
       "    .dataframe tbody tr th:only-of-type {\n",
       "        vertical-align: middle;\n",
       "    }\n",
       "\n",
       "    .dataframe tbody tr th {\n",
       "        vertical-align: top;\n",
       "    }\n",
       "\n",
       "    .dataframe thead th {\n",
       "        text-align: right;\n",
       "    }\n",
       "</style>\n",
       "<table border=\"1\" class=\"dataframe\">\n",
       "  <thead>\n",
       "    <tr style=\"text-align: right;\">\n",
       "      <th></th>\n",
       "      <th>Day</th>\n",
       "      <th>Number of Bicycle Hires</th>\n",
       "      <th>year</th>\n",
       "    </tr>\n",
       "  </thead>\n",
       "  <tbody>\n",
       "    <tr>\n",
       "      <th>0</th>\n",
       "      <td>2010-07-30</td>\n",
       "      <td>6897.0</td>\n",
       "      <td>10</td>\n",
       "    </tr>\n",
       "    <tr>\n",
       "      <th>1</th>\n",
       "      <td>2010-07-31</td>\n",
       "      <td>5564.0</td>\n",
       "      <td>10</td>\n",
       "    </tr>\n",
       "    <tr>\n",
       "      <th>2</th>\n",
       "      <td>2010-08-01</td>\n",
       "      <td>4303.0</td>\n",
       "      <td>10</td>\n",
       "    </tr>\n",
       "    <tr>\n",
       "      <th>3</th>\n",
       "      <td>2010-08-02</td>\n",
       "      <td>6642.0</td>\n",
       "      <td>10</td>\n",
       "    </tr>\n",
       "    <tr>\n",
       "      <th>4</th>\n",
       "      <td>2010-08-03</td>\n",
       "      <td>7966.0</td>\n",
       "      <td>10</td>\n",
       "    </tr>\n",
       "  </tbody>\n",
       "</table>\n",
       "</div>"
      ],
      "text/plain": [
       "         Day  Number of Bicycle Hires year\n",
       "0 2010-07-30                   6897.0   10\n",
       "1 2010-07-31                   5564.0   10\n",
       "2 2010-08-01                   4303.0   10\n",
       "3 2010-08-02                   6642.0   10\n",
       "4 2010-08-03                   7966.0   10"
      ]
     },
     "execution_count": 63,
     "metadata": {},
     "output_type": "execute_result"
    }
   ],
   "source": [
    "tfl.head()"
   ]
  },
  {
   "cell_type": "markdown",
   "id": "e30bf063",
   "metadata": {},
   "source": [
    "## What is the average number of bicycle hires per Year across the entire dataset"
   ]
  },
  {
   "cell_type": "code",
   "execution_count": 67,
   "id": "32e99c01",
   "metadata": {},
   "outputs": [
    {
     "data": {
      "text/html": [
       "<div>\n",
       "<style scoped>\n",
       "    .dataframe tbody tr th:only-of-type {\n",
       "        vertical-align: middle;\n",
       "    }\n",
       "\n",
       "    .dataframe tbody tr th {\n",
       "        vertical-align: top;\n",
       "    }\n",
       "\n",
       "    .dataframe thead th {\n",
       "        text-align: right;\n",
       "    }\n",
       "</style>\n",
       "<table border=\"1\" class=\"dataframe\">\n",
       "  <thead>\n",
       "    <tr style=\"text-align: right;\">\n",
       "      <th></th>\n",
       "      <th>Number of Bicycle Hires</th>\n",
       "    </tr>\n",
       "    <tr>\n",
       "      <th>year</th>\n",
       "      <th></th>\n",
       "    </tr>\n",
       "  </thead>\n",
       "  <tbody>\n",
       "    <tr>\n",
       "      <th>10</th>\n",
       "      <td>14069.761290</td>\n",
       "    </tr>\n",
       "    <tr>\n",
       "      <th>11</th>\n",
       "      <td>19568.353425</td>\n",
       "    </tr>\n",
       "    <tr>\n",
       "      <th>12</th>\n",
       "      <td>26008.969945</td>\n",
       "    </tr>\n",
       "    <tr>\n",
       "      <th>13</th>\n",
       "      <td>22042.353425</td>\n",
       "    </tr>\n",
       "    <tr>\n",
       "      <th>14</th>\n",
       "      <td>27462.731507</td>\n",
       "    </tr>\n",
       "    <tr>\n",
       "      <th>15</th>\n",
       "      <td>27046.134247</td>\n",
       "    </tr>\n",
       "    <tr>\n",
       "      <th>16</th>\n",
       "      <td>28152.013661</td>\n",
       "    </tr>\n",
       "    <tr>\n",
       "      <th>17</th>\n",
       "      <td>28619.298630</td>\n",
       "    </tr>\n",
       "    <tr>\n",
       "      <th>18</th>\n",
       "      <td>28952.164384</td>\n",
       "    </tr>\n",
       "    <tr>\n",
       "      <th>19</th>\n",
       "      <td>28561.520548</td>\n",
       "    </tr>\n",
       "    <tr>\n",
       "      <th>20</th>\n",
       "      <td>28508.653005</td>\n",
       "    </tr>\n",
       "    <tr>\n",
       "      <th>21</th>\n",
       "      <td>30091.069597</td>\n",
       "    </tr>\n",
       "  </tbody>\n",
       "</table>\n",
       "</div>"
      ],
      "text/plain": [
       "      Number of Bicycle Hires\n",
       "year                         \n",
       "10               14069.761290\n",
       "11               19568.353425\n",
       "12               26008.969945\n",
       "13               22042.353425\n",
       "14               27462.731507\n",
       "15               27046.134247\n",
       "16               28152.013661\n",
       "17               28619.298630\n",
       "18               28952.164384\n",
       "19               28561.520548\n",
       "20               28508.653005\n",
       "21               30091.069597"
      ]
     },
     "execution_count": 67,
     "metadata": {},
     "output_type": "execute_result"
    }
   ],
   "source": [
    "tfl.groupby(by='year').mean('Number of Bicycle Hires')"
   ]
  },
  {
   "cell_type": "code",
   "execution_count": null,
   "id": "bef75641",
   "metadata": {},
   "outputs": [],
   "source": []
  },
  {
   "cell_type": "code",
   "execution_count": null,
   "id": "281c6856",
   "metadata": {},
   "outputs": [],
   "source": []
  },
  {
   "cell_type": "markdown",
   "id": "97c173a5",
   "metadata": {},
   "source": [
    "## What is the total number of bicycle hires per Year across the entire dataset"
   ]
  },
  {
   "cell_type": "code",
   "execution_count": 69,
   "id": "4548e26a",
   "metadata": {},
   "outputs": [
    {
     "data": {
      "text/html": [
       "<div>\n",
       "<style scoped>\n",
       "    .dataframe tbody tr th:only-of-type {\n",
       "        vertical-align: middle;\n",
       "    }\n",
       "\n",
       "    .dataframe tbody tr th {\n",
       "        vertical-align: top;\n",
       "    }\n",
       "\n",
       "    .dataframe thead th {\n",
       "        text-align: right;\n",
       "    }\n",
       "</style>\n",
       "<table border=\"1\" class=\"dataframe\">\n",
       "  <thead>\n",
       "    <tr style=\"text-align: right;\">\n",
       "      <th></th>\n",
       "      <th>Number of Bicycle Hires</th>\n",
       "    </tr>\n",
       "    <tr>\n",
       "      <th>year</th>\n",
       "      <th></th>\n",
       "    </tr>\n",
       "  </thead>\n",
       "  <tbody>\n",
       "    <tr>\n",
       "      <th>10</th>\n",
       "      <td>2180813.0</td>\n",
       "    </tr>\n",
       "    <tr>\n",
       "      <th>11</th>\n",
       "      <td>7142449.0</td>\n",
       "    </tr>\n",
       "    <tr>\n",
       "      <th>12</th>\n",
       "      <td>9519283.0</td>\n",
       "    </tr>\n",
       "    <tr>\n",
       "      <th>13</th>\n",
       "      <td>8045459.0</td>\n",
       "    </tr>\n",
       "    <tr>\n",
       "      <th>14</th>\n",
       "      <td>10023897.0</td>\n",
       "    </tr>\n",
       "    <tr>\n",
       "      <th>15</th>\n",
       "      <td>9871839.0</td>\n",
       "    </tr>\n",
       "    <tr>\n",
       "      <th>16</th>\n",
       "      <td>10303637.0</td>\n",
       "    </tr>\n",
       "    <tr>\n",
       "      <th>17</th>\n",
       "      <td>10446044.0</td>\n",
       "    </tr>\n",
       "    <tr>\n",
       "      <th>18</th>\n",
       "      <td>10567540.0</td>\n",
       "    </tr>\n",
       "    <tr>\n",
       "      <th>19</th>\n",
       "      <td>10424955.0</td>\n",
       "    </tr>\n",
       "    <tr>\n",
       "      <th>20</th>\n",
       "      <td>10434167.0</td>\n",
       "    </tr>\n",
       "    <tr>\n",
       "      <th>21</th>\n",
       "      <td>8214862.0</td>\n",
       "    </tr>\n",
       "  </tbody>\n",
       "</table>\n",
       "</div>"
      ],
      "text/plain": [
       "      Number of Bicycle Hires\n",
       "year                         \n",
       "10                  2180813.0\n",
       "11                  7142449.0\n",
       "12                  9519283.0\n",
       "13                  8045459.0\n",
       "14                 10023897.0\n",
       "15                  9871839.0\n",
       "16                 10303637.0\n",
       "17                 10446044.0\n",
       "18                 10567540.0\n",
       "19                 10424955.0\n",
       "20                 10434167.0\n",
       "21                  8214862.0"
      ]
     },
     "execution_count": 69,
     "metadata": {},
     "output_type": "execute_result"
    }
   ],
   "source": [
    "tfl.groupby(by='year').sum('Number of Bicycle Hires')"
   ]
  },
  {
   "cell_type": "markdown",
   "id": "4f4166e1",
   "metadata": {},
   "source": [
    "## Create a new column called 'Category' on the tfl DataFrame that classifies the number of bike hires per day as:\n",
    "* 'Low' if the 'Number of Bicycle Hires' is below 10,000\n",
    "* 'Medium' if the 'Number of Bicycle Hires' is below 40,000 but greater than or equal to 10,000\n",
    "* 'High' if the 'Number of Bicycle Hires' is greater than or equal to 40,000"
   ]
  },
  {
   "cell_type": "code",
   "execution_count": 85,
   "id": "a1042b8b",
   "metadata": {},
   "outputs": [],
   "source": [
    "def tfl_func(x):\n",
    "    if x>=40000:\n",
    "        return 'High'\n",
    "    elif x>=10000:\n",
    "         return 'Medium'\n",
    "    else:\n",
    "        return 'Low'"
   ]
  },
  {
   "cell_type": "code",
   "execution_count": 101,
   "id": "1a3e39a2",
   "metadata": {},
   "outputs": [],
   "source": [
    "tfl['Category']=tfl['Number of Bicycle Hires'].apply(tfl_func)"
   ]
  },
  {
   "cell_type": "code",
   "execution_count": 102,
   "id": "3c394292",
   "metadata": {},
   "outputs": [
    {
     "data": {
      "text/html": [
       "<div>\n",
       "<style scoped>\n",
       "    .dataframe tbody tr th:only-of-type {\n",
       "        vertical-align: middle;\n",
       "    }\n",
       "\n",
       "    .dataframe tbody tr th {\n",
       "        vertical-align: top;\n",
       "    }\n",
       "\n",
       "    .dataframe thead th {\n",
       "        text-align: right;\n",
       "    }\n",
       "</style>\n",
       "<table border=\"1\" class=\"dataframe\">\n",
       "  <thead>\n",
       "    <tr style=\"text-align: right;\">\n",
       "      <th></th>\n",
       "      <th>Day</th>\n",
       "      <th>Number of Bicycle Hires</th>\n",
       "      <th>year</th>\n",
       "      <th>Category</th>\n",
       "    </tr>\n",
       "  </thead>\n",
       "  <tbody>\n",
       "    <tr>\n",
       "      <th>0</th>\n",
       "      <td>2010-07-30</td>\n",
       "      <td>6897.0</td>\n",
       "      <td>10</td>\n",
       "      <td>Low</td>\n",
       "    </tr>\n",
       "    <tr>\n",
       "      <th>1</th>\n",
       "      <td>2010-07-31</td>\n",
       "      <td>5564.0</td>\n",
       "      <td>10</td>\n",
       "      <td>Low</td>\n",
       "    </tr>\n",
       "    <tr>\n",
       "      <th>2</th>\n",
       "      <td>2010-08-01</td>\n",
       "      <td>4303.0</td>\n",
       "      <td>10</td>\n",
       "      <td>Low</td>\n",
       "    </tr>\n",
       "    <tr>\n",
       "      <th>3</th>\n",
       "      <td>2010-08-02</td>\n",
       "      <td>6642.0</td>\n",
       "      <td>10</td>\n",
       "      <td>Low</td>\n",
       "    </tr>\n",
       "    <tr>\n",
       "      <th>4</th>\n",
       "      <td>2010-08-03</td>\n",
       "      <td>7966.0</td>\n",
       "      <td>10</td>\n",
       "      <td>Low</td>\n",
       "    </tr>\n",
       "    <tr>\n",
       "      <th>...</th>\n",
       "      <td>...</td>\n",
       "      <td>...</td>\n",
       "      <td>...</td>\n",
       "      <td>...</td>\n",
       "    </tr>\n",
       "    <tr>\n",
       "      <th>4076</th>\n",
       "      <td>2021-09-26</td>\n",
       "      <td>45120.0</td>\n",
       "      <td>21</td>\n",
       "      <td>High</td>\n",
       "    </tr>\n",
       "    <tr>\n",
       "      <th>4077</th>\n",
       "      <td>2021-09-27</td>\n",
       "      <td>32167.0</td>\n",
       "      <td>21</td>\n",
       "      <td>Medium</td>\n",
       "    </tr>\n",
       "    <tr>\n",
       "      <th>4078</th>\n",
       "      <td>2021-09-28</td>\n",
       "      <td>32539.0</td>\n",
       "      <td>21</td>\n",
       "      <td>Medium</td>\n",
       "    </tr>\n",
       "    <tr>\n",
       "      <th>4079</th>\n",
       "      <td>2021-09-29</td>\n",
       "      <td>39889.0</td>\n",
       "      <td>21</td>\n",
       "      <td>Medium</td>\n",
       "    </tr>\n",
       "    <tr>\n",
       "      <th>4080</th>\n",
       "      <td>2021-09-30</td>\n",
       "      <td>34070.0</td>\n",
       "      <td>21</td>\n",
       "      <td>Medium</td>\n",
       "    </tr>\n",
       "  </tbody>\n",
       "</table>\n",
       "<p>4081 rows × 4 columns</p>\n",
       "</div>"
      ],
      "text/plain": [
       "            Day  Number of Bicycle Hires year Category\n",
       "0    2010-07-30                   6897.0   10      Low\n",
       "1    2010-07-31                   5564.0   10      Low\n",
       "2    2010-08-01                   4303.0   10      Low\n",
       "3    2010-08-02                   6642.0   10      Low\n",
       "4    2010-08-03                   7966.0   10      Low\n",
       "...         ...                      ...  ...      ...\n",
       "4076 2021-09-26                  45120.0   21     High\n",
       "4077 2021-09-27                  32167.0   21   Medium\n",
       "4078 2021-09-28                  32539.0   21   Medium\n",
       "4079 2021-09-29                  39889.0   21   Medium\n",
       "4080 2021-09-30                  34070.0   21   Medium\n",
       "\n",
       "[4081 rows x 4 columns]"
      ]
     },
     "execution_count": 102,
     "metadata": {},
     "output_type": "execute_result"
    }
   ],
   "source": [
    "tfl"
   ]
  },
  {
   "cell_type": "markdown",
   "id": "06e53d45",
   "metadata": {},
   "source": [
    "## For each year in the tfl DataFrame how many days are classed as 'Low', 'Medium' or 'High'?"
   ]
  },
  {
   "cell_type": "code",
   "execution_count": 108,
   "id": "c987ed1c",
   "metadata": {},
   "outputs": [
    {
     "data": {
      "text/html": [
       "<div>\n",
       "<style scoped>\n",
       "    .dataframe tbody tr th:only-of-type {\n",
       "        vertical-align: middle;\n",
       "    }\n",
       "\n",
       "    .dataframe tbody tr th {\n",
       "        vertical-align: top;\n",
       "    }\n",
       "\n",
       "    .dataframe thead th {\n",
       "        text-align: right;\n",
       "    }\n",
       "</style>\n",
       "<table border=\"1\" class=\"dataframe\">\n",
       "  <thead>\n",
       "    <tr style=\"text-align: right;\">\n",
       "      <th>Category</th>\n",
       "      <th>High</th>\n",
       "      <th>Low</th>\n",
       "      <th>Medium</th>\n",
       "    </tr>\n",
       "    <tr>\n",
       "      <th>year</th>\n",
       "      <th></th>\n",
       "      <th></th>\n",
       "      <th></th>\n",
       "    </tr>\n",
       "  </thead>\n",
       "  <tbody>\n",
       "    <tr>\n",
       "      <th>10</th>\n",
       "      <td>0</td>\n",
       "      <td>44</td>\n",
       "      <td>111</td>\n",
       "    </tr>\n",
       "    <tr>\n",
       "      <th>11</th>\n",
       "      <td>0</td>\n",
       "      <td>30</td>\n",
       "      <td>335</td>\n",
       "    </tr>\n",
       "    <tr>\n",
       "      <th>12</th>\n",
       "      <td>27.0</td>\n",
       "      <td>19</td>\n",
       "      <td>320</td>\n",
       "    </tr>\n",
       "    <tr>\n",
       "      <th>13</th>\n",
       "      <td>0</td>\n",
       "      <td>25</td>\n",
       "      <td>340</td>\n",
       "    </tr>\n",
       "    <tr>\n",
       "      <th>14</th>\n",
       "      <td>27.0</td>\n",
       "      <td>10</td>\n",
       "      <td>328</td>\n",
       "    </tr>\n",
       "    <tr>\n",
       "      <th>15</th>\n",
       "      <td>12.0</td>\n",
       "      <td>9</td>\n",
       "      <td>344</td>\n",
       "    </tr>\n",
       "    <tr>\n",
       "      <th>16</th>\n",
       "      <td>37.0</td>\n",
       "      <td>6</td>\n",
       "      <td>323</td>\n",
       "    </tr>\n",
       "    <tr>\n",
       "      <th>17</th>\n",
       "      <td>28.0</td>\n",
       "      <td>13</td>\n",
       "      <td>324</td>\n",
       "    </tr>\n",
       "    <tr>\n",
       "      <th>18</th>\n",
       "      <td>52.0</td>\n",
       "      <td>16</td>\n",
       "      <td>297</td>\n",
       "    </tr>\n",
       "    <tr>\n",
       "      <th>19</th>\n",
       "      <td>20.0</td>\n",
       "      <td>3</td>\n",
       "      <td>342</td>\n",
       "    </tr>\n",
       "    <tr>\n",
       "      <th>20</th>\n",
       "      <td>63.0</td>\n",
       "      <td>11</td>\n",
       "      <td>292</td>\n",
       "    </tr>\n",
       "    <tr>\n",
       "      <th>21</th>\n",
       "      <td>62.0</td>\n",
       "      <td>9</td>\n",
       "      <td>202</td>\n",
       "    </tr>\n",
       "  </tbody>\n",
       "</table>\n",
       "</div>"
      ],
      "text/plain": [
       "Category  High  Low  Medium\n",
       "year                       \n",
       "10           0   44     111\n",
       "11           0   30     335\n",
       "12        27.0   19     320\n",
       "13           0   25     340\n",
       "14        27.0   10     328\n",
       "15        12.0    9     344\n",
       "16        37.0    6     323\n",
       "17        28.0   13     324\n",
       "18        52.0   16     297\n",
       "19        20.0    3     342\n",
       "20        63.0   11     292\n",
       "21        62.0    9     202"
      ]
     },
     "execution_count": 108,
     "metadata": {},
     "output_type": "execute_result"
    }
   ],
   "source": [
    "pd.pivot_table(data=tfl,index='year',columns='Category',values='Day', fill_value='0', aggfunc='count')"
   ]
  },
  {
   "cell_type": "markdown",
   "id": "292506bd",
   "metadata": {},
   "source": [
    "# Another option"
   ]
  },
  {
   "cell_type": "code",
   "execution_count": 113,
   "id": "0320ae95",
   "metadata": {},
   "outputs": [
    {
     "data": {
      "text/plain": [
       "year  Category\n",
       "10    Low          44\n",
       "      Medium      111\n",
       "11    Low          30\n",
       "      Medium      335\n",
       "12    High         27\n",
       "      Low          19\n",
       "      Medium      320\n",
       "13    Low          25\n",
       "      Medium      340\n",
       "14    High         27\n",
       "      Low          10\n",
       "      Medium      328\n",
       "15    High         12\n",
       "      Low           9\n",
       "      Medium      344\n",
       "16    High         37\n",
       "      Low           6\n",
       "      Medium      323\n",
       "17    High         28\n",
       "      Low          13\n",
       "      Medium      324\n",
       "18    High         52\n",
       "      Low          16\n",
       "      Medium      297\n",
       "19    High         20\n",
       "      Low           3\n",
       "      Medium      342\n",
       "20    High         63\n",
       "      Low          11\n",
       "      Medium      292\n",
       "21    High         62\n",
       "      Low           9\n",
       "      Medium      202\n",
       "Name: Day, dtype: int64"
      ]
     },
     "execution_count": 113,
     "metadata": {},
     "output_type": "execute_result"
    }
   ],
   "source": [
    "tfl.groupby(by=['year','Category']).count()['Day']"
   ]
  },
  {
   "cell_type": "code",
   "execution_count": null,
   "id": "619f5daa",
   "metadata": {},
   "outputs": [],
   "source": []
  }
 ],
 "metadata": {
  "kernelspec": {
   "display_name": "Python 3 (ipykernel)",
   "language": "python",
   "name": "python3"
  },
  "language_info": {
   "codemirror_mode": {
    "name": "ipython",
    "version": 3
   },
   "file_extension": ".py",
   "mimetype": "text/x-python",
   "name": "python",
   "nbconvert_exporter": "python",
   "pygments_lexer": "ipython3",
   "version": "3.10.9"
  }
 },
 "nbformat": 4,
 "nbformat_minor": 5
}
